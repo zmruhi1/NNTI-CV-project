{
 "cells": [
  {
   "cell_type": "markdown",
   "metadata": {
    "id": "lrn1U_hc2XOc"
   },
   "source": [
    "# Team members\n",
    "Name: Harsh Agarwal  \n",
    "Matrikelnummer: 7024725  \n",
    "email: haag00001@stud.uni-saarland.de\n",
    "\n",
    "Name: Zurana Mehrin Ruhi  \n",
    "Matrikelnummer: 7023892  \n",
    "email: zuru00001@stud.uni-saarland.de\n"
   ]
  },
  {
   "cell_type": "markdown",
   "metadata": {
    "id": "3gU0ARTQ2XOg"
   },
   "source": [
    "# Exercise 6.2 (6 points)"
   ]
  },
  {
   "cell_type": "markdown",
   "metadata": {
    "id": "A0LR3s962XOg"
   },
   "source": [
    "In this exercise you will continue the concept of toy library that you started in the previous assignment. As the main topic of this week's lecture was backpropagation, you are asked to perform backpropagation on a neural network model that you will build in this exercise.  \n",
    "  \n",
    "In this toy library, we are not implementing the functionalities of autograd or any other automatic differentiation. Still it will be extremely helpful for you to know the basics about how the PyTorch autograd functionality works (e.g. for checking your implementation of gradient calculations). A good starting point would be [PyTorch autograd tutorial](https://pytorch.org/tutorials/beginner/blitz/autograd_tutorial.html).   \n",
    "\n",
    "All classes that you implemented in the previous week must now have a `grad` function which would compute and return gradients. The `grad` function in the classes of the following *loss* funtions (`MSELoss` and `CrossEntropyLoss`) must compute gradients of the loss w.r.t. its input. The `grad` function for *activation functions* must take the incoming gradient (possibly from the previous layer or the loss function) and compute gradients of the loss w.r.t. its input. The `grad` function for *layers* (in this exercise we have only `Linear` layer) must take the incoming gradient and compute gradients of the loss w.r.t. both its input and weights (you can ignore computing the gradients w.r.t. biases).\n",
    "\n",
    "For each gradient calculation, we are providing some low-dimensional data. After you finish the implementation of each `grad` function, simply run the corresponding cell (**do not** change the contents of these cells). To check for the correctness of the implementation, we ask you to *call* the corresponding function from PyTorch on the same input data, compute gradients, and compare them with the gradients from your implementation. If you have a correct solution, then they must be the same (or maybe with some very small <$10^{-3}$ differences).\n",
    "\n",
    "We are providing the correct solution for the previous assignment so that you can still work on this one, even if you had some mistakes in your solution. Simply replace the files or work from a different directory.\n",
    "\n",
    "Please remember that everything is processed in minibatches and gradients must be calculated accordingly. The input for each of the model components has dimensions of `N*D` where `N` is the number of datapoints in minibatch and `D` is the number of features. Of course, all the gradient computations must, ideally, be implemented in vectorized form (without using any loops)."
   ]
  },
  {
   "cell_type": "code",
   "execution_count": 2,
   "metadata": {
    "executionInfo": {
     "elapsed": 10303,
     "status": "ok",
     "timestamp": 1639849487346,
     "user": {
      "displayName": "Harsh Agarwal",
      "photoUrl": "https://lh3.googleusercontent.com/a-/AOh14Gi3nQELkyrbEPq5AehnqZz4WF1ZIpUUSRYMwWl8=s64",
      "userId": "05114933545350211466"
     },
     "user_tz": -60
    },
    "id": "pr304vdm2XOh"
   },
   "outputs": [],
   "source": [
    "import numpy as np\n",
    "from activations import ReLU, LeakyReLU, Tanh, Softmax, Sigmoid\n",
    "from losses import CrossEntropy, MSELoss\n",
    "from layers import Linear\n",
    "import torch\n",
    "np.random.seed(23)"
   ]
  },
  {
   "cell_type": "markdown",
   "metadata": {
    "id": "erIwj0JU2XOi"
   },
   "source": [
    "## Exercise 6.2.1 Implement gradient calculation for MSE loss (0.5 points)\n",
    "Check the correctness of the gradient by calculating it on the same data using PyTorch  "
   ]
  },
  {
   "cell_type": "code",
   "execution_count": 3,
   "metadata": {
    "colab": {
     "base_uri": "https://localhost:8080/"
    },
    "executionInfo": {
     "elapsed": 4,
     "status": "ok",
     "timestamp": 1639849487347,
     "user": {
      "displayName": "Harsh Agarwal",
      "photoUrl": "https://lh3.googleusercontent.com/a-/AOh14Gi3nQELkyrbEPq5AehnqZz4WF1ZIpUUSRYMwWl8=s64",
      "userId": "05114933545350211466"
     },
     "user_tz": -60
    },
    "id": "HzhZfNLJ2XOj",
    "outputId": "1ba783fa-43f1-4d34-ab53-19e0cf0d8d4f"
   },
   "outputs": [
    {
     "name": "stdout",
     "output_type": "stream",
     "text": [
      "predictions\n",
      "[0 1 2]\n",
      "true values\n",
      "[1 3 3]\n",
      "MSE loss\n",
      "2.0\n",
      "MSE gradient\n",
      "[-0.66666667 -1.33333333 -0.66666667]\n"
     ]
    }
   ],
   "source": [
    "y_pred = np.array([0, 1, 2])\n",
    "y_true = np.array([1, 3, 3])\n",
    "loss = MSELoss()\n",
    "\n",
    "print('predictions')\n",
    "print(y_pred)\n",
    "print('true values')\n",
    "print(y_true)\n",
    "\n",
    "print('MSE loss')\n",
    "print(loss(y_pred, y_true))\n",
    "\n",
    "print('MSE gradient')\n",
    "print(loss.grad())"
   ]
  },
  {
   "cell_type": "code",
   "execution_count": 4,
   "metadata": {
    "colab": {
     "base_uri": "https://localhost:8080/"
    },
    "executionInfo": {
     "elapsed": 354,
     "status": "ok",
     "timestamp": 1639849487699,
     "user": {
      "displayName": "Harsh Agarwal",
      "photoUrl": "https://lh3.googleusercontent.com/a-/AOh14Gi3nQELkyrbEPq5AehnqZz4WF1ZIpUUSRYMwWl8=s64",
      "userId": "05114933545350211466"
     },
     "user_tz": -60
    },
    "id": "to8h71hh2XOk",
    "outputId": "1a4a8436-673d-4ab8-d0c5-f96e88d25489"
   },
   "outputs": [
    {
     "name": "stdout",
     "output_type": "stream",
     "text": [
      "predictions\n",
      "tensor([0., 1., 2.], requires_grad=True)\n",
      "true values\n",
      "tensor([1., 3., 3.])\n",
      "MSE loss\n",
      "tensor(2., grad_fn=<MseLossBackward0>)\n",
      "MSE gradient\n",
      "tensor([-0.6667, -1.3333, -0.6667])\n"
     ]
    }
   ],
   "source": [
    "y_pred = torch.tensor([0, 1, 2], requires_grad=True, dtype=torch.float32)\n",
    "y_true = torch.tensor([1, 3, 3], dtype=torch.float32)\n",
    "\n",
    "print('predictions')\n",
    "print(y_pred)\n",
    "print('true values')\n",
    "print(y_true)\n",
    "\n",
    "print('MSE loss')\n",
    "loss = torch.nn.MSELoss()\n",
    "actual_loss = loss(y_pred, y_true)\n",
    "print(actual_loss)\n",
    "\n",
    "print('MSE gradient')\n",
    "actual_loss.backward()\n",
    "print(y_pred.grad)"
   ]
  },
  {
   "cell_type": "markdown",
   "metadata": {
    "id": "fLyfOaIS2XOl"
   },
   "source": [
    "\n",
    "## Exercise 6.2.2 Implement gradient calculation for Cross Entropy Loss (1.5 points)\n",
    "First prove that the partial derivative of the loss w.r.t. one of the input variables is <br> $\\frac{\\delta L}{\\delta o_i} = p_i - y_i$  \n",
    "where <br> $o_i$ - one of the input variables,   \n",
    "$p_i$ - probability for that input variable calculated using softmax,   \n",
    "$y_i$ - label for that input variable ($y_i \\in \\{0, 1\\}$).  \n",
    "For simplicity of the proof, you can prove it for just one datapoint, but in the code, you should properly extrapolate it for computing the gradients for the whole minibatch (`N` datapoints).  \n",
    "\n",
    "Write the solution in the markdown cell below.\n",
    "  \n",
    "Please remember that a typical Cross Entropy Loss implementation, including ours, implicitly applies Softmax before calculating the CE loss.\n",
    "  \n",
    "Check the correctness of the gradient by calculating it on the same data using PyTorch  "
   ]
  },
  {
   "cell_type": "markdown",
   "metadata": {
    "id": "X4yfriS92XOl"
   },
   "source": [
    "$L = -(y_i*log(p_i) + (1-y_i)*log(1-p_i))$ <br>\n",
    "$\\frac{\\delta L}{\\delta o_i} = \\frac{\\delta L}{\\delta p_i} * \\frac{\\delta p_i}{\\delta o_i}$ <br>\n",
    "$\\frac{\\delta L}{\\delta p_i} = -\\frac{y_i}{p_i} + \\frac{1-y_i}{1-p_i}$ (Cross Entropy Derivative) <br> \n",
    "$\\frac{\\delta p_i}{\\delta o_i} = p_i(1 - p_i)$ (Softmax Derivative) <br> \n",
    "$\\frac{\\delta L}{\\delta o_i} = (-\\frac{y_i}{p_i} + \\frac{1-y_i}{1-p_i})*(p_i(1 - p_i)) = p_i - y_i$  "
   ]
  },
  {
   "cell_type": "code",
   "execution_count": 5,
   "metadata": {
    "colab": {
     "base_uri": "https://localhost:8080/"
    },
    "executionInfo": {
     "elapsed": 5,
     "status": "ok",
     "timestamp": 1639849487700,
     "user": {
      "displayName": "Harsh Agarwal",
      "photoUrl": "https://lh3.googleusercontent.com/a-/AOh14Gi3nQELkyrbEPq5AehnqZz4WF1ZIpUUSRYMwWl8=s64",
      "userId": "05114933545350211466"
     },
     "user_tz": -60
    },
    "id": "mWSquSvR2XOm",
    "outputId": "49a8e9d9-57c0-4d1e-fccf-467636e70c26"
   },
   "outputs": [
    {
     "name": "stdout",
     "output_type": "stream",
     "text": [
      "predictions\n",
      "[[0.4  0.35 0.71 0.3 ]\n",
      " [0.01 0.01 0.01 0.65]]\n",
      "targets\n",
      "[[0 0 1 0]\n",
      " [0 0 0 1]]\n",
      "cross entropy loss\n",
      "1.0391157169091105\n",
      "gradient of the cross entropy loss\n",
      "[[ 0.11849768  0.11271848 -0.33843729  0.10722113]\n",
      " [ 0.10211415  0.10211415  0.10211415 -0.30634246]]\n"
     ]
    }
   ],
   "source": [
    "ce_loss = CrossEntropy(average=True)\n",
    "predictions = np.array([[0.4,0.35,0.71,0.30],\n",
    "                        [0.01,0.01,0.01,0.65]])\n",
    "targets = np.array([[0,0,1,0],\n",
    "                  [0,0,0,1]])\n",
    "\n",
    "print('predictions')\n",
    "print(predictions)\n",
    "print('targets')\n",
    "print(targets)\n",
    "\n",
    "print('cross entropy loss')\n",
    "print(ce_loss(predictions, targets))\n",
    "\n",
    "print('gradient of the cross entropy loss')\n",
    "print(ce_loss.grad())"
   ]
  },
  {
   "cell_type": "code",
   "execution_count": 6,
   "metadata": {
    "colab": {
     "base_uri": "https://localhost:8080/"
    },
    "executionInfo": {
     "elapsed": 3,
     "status": "ok",
     "timestamp": 1639849487700,
     "user": {
      "displayName": "Harsh Agarwal",
      "photoUrl": "https://lh3.googleusercontent.com/a-/AOh14Gi3nQELkyrbEPq5AehnqZz4WF1ZIpUUSRYMwWl8=s64",
      "userId": "05114933545350211466"
     },
     "user_tz": -60
    },
    "id": "nvcHMAHk2XOm",
    "outputId": "29396dba-547f-4aa0-bfe4-24847cc0af8d"
   },
   "outputs": [
    {
     "name": "stdout",
     "output_type": "stream",
     "text": [
      "predictions\n",
      "tensor([[0.4000, 0.3500, 0.7100, 0.3000],\n",
      "        [0.0100, 0.0100, 0.0100, 0.6500]], requires_grad=True)\n",
      "targets\n",
      "tensor([[0., 0., 1., 0.],\n",
      "        [0., 0., 0., 1.]])\n",
      "cross entropy loss\n",
      "tensor(1.0391, grad_fn=<DivBackward1>)\n",
      "gradient of the cross entropy loss\n",
      "tensor([[ 0.1185,  0.1127, -0.3384,  0.1072],\n",
      "        [ 0.1021,  0.1021,  0.1021, -0.3063]])\n"
     ]
    }
   ],
   "source": [
    "predictions = torch.tensor([[0.4,0.35,0.71,0.30],\n",
    "                            [0.01,0.01,0.01,0.65]], dtype=torch.float32, requires_grad=True)\n",
    "targets = torch.tensor([[0,0,1,0],\n",
    "                        [0,0,0,1]], dtype=torch.float32)\n",
    "\n",
    "print('predictions')\n",
    "print(predictions)\n",
    "print('targets')\n",
    "print(targets)\n",
    "\n",
    "print('cross entropy loss')\n",
    "loss = torch.nn.CrossEntropyLoss()\n",
    "actual_loss = loss(predictions, targets)\n",
    "print(actual_loss)\n",
    "\n",
    "print('gradient of the cross entropy loss')\n",
    "actual_loss.backward()\n",
    "print(predictions.grad)"
   ]
  },
  {
   "cell_type": "markdown",
   "metadata": {
    "id": "ah5aTXJ22XOn"
   },
   "source": [
    "## Exercise 6.2.3 Implement gradient calculation for linear layer (1.5 points)\n",
    "\n",
    "First prove that $\\frac{\\delta L}{\\delta X} = \\frac{\\delta L}{\\delta Y} W^T$ and $\\frac{\\delta L}{\\delta W} = X^T \\frac{\\delta L}{\\delta Y}$  \n",
    "where $Y = XW$ <br> (X - input data matrix of dimension `N * in_features` and W is a weight matrix of dimension `in_features * out_features`),  \n",
    "$\\frac{\\delta L}{\\delta Y}$ is the incoming gradient of dimension `N * out_features` (e.g. from the loss function that is applied on the outputs of the linear layer).  \n",
    "\n",
    "Write the solution in the markdown cell below.\n",
    "\n",
    "Check the correctness of the gradient by calculating it on the same data using PyTorch."
   ]
  },
  {
   "cell_type": "markdown",
   "metadata": {
    "id": "zUczEDgP2XOn"
   },
   "source": [
    "$\\frac{\\delta L}{\\delta X} = \\frac{\\delta L}{\\delta Y} * \\frac{\\delta Y}{\\delta X}$ <br>\n",
    "$=>\\frac{\\delta Y}{\\delta X} = W^T$ <br>\n",
    "$=>\\frac{\\delta L}{\\delta X} = \\frac{\\delta L}{\\delta Y} * W^T$\n",
    "<br><br>\n",
    "$\\frac{\\delta L}{\\delta W} = \\frac{\\delta Y}{\\delta W} * \\frac{\\delta L}{\\delta Y}$ <br>\n",
    "$=>\\frac{\\delta Y}{\\delta W} = X^T$ <br>\n",
    "$=>\\frac{\\delta L}{\\delta W} = X^T * \\frac{\\delta L}{\\delta Y} $"
   ]
  },
  {
   "cell_type": "code",
   "execution_count": 7,
   "metadata": {
    "colab": {
     "base_uri": "https://localhost:8080/"
    },
    "executionInfo": {
     "elapsed": 271,
     "status": "ok",
     "timestamp": 1639849487969,
     "user": {
      "displayName": "Harsh Agarwal",
      "photoUrl": "https://lh3.googleusercontent.com/a-/AOh14Gi3nQELkyrbEPq5AehnqZz4WF1ZIpUUSRYMwWl8=s64",
      "userId": "05114933545350211466"
     },
     "user_tz": -60
    },
    "id": "hADFcoZc2XOn",
    "outputId": "375d58b6-7082-4531-97b7-4ef5bcec843d"
   },
   "outputs": [
    {
     "name": "stdout",
     "output_type": "stream",
     "text": [
      "input data\n",
      "[[ 0.66698806  0.02581308 -0.77761941  0.94863382  0.70167179]\n",
      " [-1.05108156 -0.36754812 -1.13745969 -1.32214752  1.77225828]\n",
      " [-0.34745899  0.67014016  0.32227152  0.06034293 -1.04345   ]\n",
      " [-1.00994188  0.44173637  1.12887685 -1.83806777 -0.93876863]]\n",
      "output of the linear layer\n",
      "[[ 0.0549832   0.11302227]\n",
      " [ 0.08216551 -0.18497617]\n",
      " [ 0.08671981  0.08423143]\n",
      " [ 0.1108269  -0.12477559]]\n",
      "gradient w.r.t weights\n",
      "[[-1.74149438 -1.74149438]\n",
      " [ 0.7701415   0.7701415 ]\n",
      " [-0.46393073 -0.46393073]\n",
      " [-2.15123853 -2.15123853]\n",
      " [ 0.49171144  0.49171144]]\n",
      "gradient w.r.t. inputs\n",
      "[[ 0.04217654  0.06751403 -0.03557016  0.05654907 -0.05248106]\n",
      " [ 0.04217654  0.06751403 -0.03557016  0.05654907 -0.05248106]\n",
      " [ 0.04217654  0.06751403 -0.03557016  0.05654907 -0.05248106]\n",
      " [ 0.04217654  0.06751403 -0.03557016  0.05654907 -0.05248106]]\n"
     ]
    }
   ],
   "source": [
    "minibatch_size = 4\n",
    "in_features = 5\n",
    "out_features = 2\n",
    "minibatch = np.random.randn(minibatch_size, in_features)\n",
    "print('input data')\n",
    "print(minibatch)\n",
    "\n",
    "layer = Linear(in_features, out_features)\n",
    "print('output of the linear layer')\n",
    "print(layer(minibatch))\n",
    "\n",
    "in_gradient = np.ones((minibatch_size, out_features,))\n",
    "gradient_weights, gradient_input = layer.grad(in_gradient)\n",
    "print('gradient w.r.t weights')\n",
    "print(gradient_weights)\n",
    "print('gradient w.r.t. inputs')\n",
    "print(gradient_input)"
   ]
  },
  {
   "cell_type": "markdown",
   "metadata": {
    "id": "2sKtRVX92XOo"
   },
   "source": [
    "Note that, to get the same output, the *weights* and *biases* of the `Linear` layer instantiated above and the `Linear` layer from PyTorch must be the same. "
   ]
  },
  {
   "cell_type": "code",
   "execution_count": 8,
   "metadata": {
    "colab": {
     "base_uri": "https://localhost:8080/"
    },
    "executionInfo": {
     "elapsed": 10,
     "status": "ok",
     "timestamp": 1639849487970,
     "user": {
      "displayName": "Harsh Agarwal",
      "photoUrl": "https://lh3.googleusercontent.com/a-/AOh14Gi3nQELkyrbEPq5AehnqZz4WF1ZIpUUSRYMwWl8=s64",
      "userId": "05114933545350211466"
     },
     "user_tz": -60
    },
    "id": "ECNqZSLi2XOo",
    "outputId": "dcbbb876-dc91-4e6a-e249-386a26f6ea11"
   },
   "outputs": [
    {
     "name": "stdout",
     "output_type": "stream",
     "text": [
      "input data\n",
      "tensor([[ 0.6670,  0.0258, -0.7776,  0.9486,  0.7017],\n",
      "        [-1.0511, -0.3675, -1.1375, -1.3221,  1.7723],\n",
      "        [-0.3475,  0.6701,  0.3223,  0.0603, -1.0434],\n",
      "        [-1.0099,  0.4417,  1.1289, -1.8381, -0.9388]], requires_grad=True)\n",
      "output of the linear layer\n",
      "tensor([[ 0.0550,  0.1130],\n",
      "        [ 0.0822, -0.1850],\n",
      "        [ 0.0867,  0.0842],\n",
      "        [ 0.1108, -0.1248]], grad_fn=<AddmmBackward0>)\n",
      "gradient w.r.t weights\n",
      "tensor([[-1.7415, -1.7415],\n",
      "        [ 0.7701,  0.7701],\n",
      "        [-0.4639, -0.4639],\n",
      "        [-2.1512, -2.1512],\n",
      "        [ 0.4917,  0.4917]])\n",
      "gradient w.r.t. inputs\n",
      "tensor([[ 0.0422,  0.0675, -0.0356,  0.0565, -0.0525],\n",
      "        [ 0.0422,  0.0675, -0.0356,  0.0565, -0.0525],\n",
      "        [ 0.0422,  0.0675, -0.0356,  0.0565, -0.0525],\n",
      "        [ 0.0422,  0.0675, -0.0356,  0.0565, -0.0525]])\n"
     ]
    }
   ],
   "source": [
    "print('input data')\n",
    "minibatch = torch.tensor(minibatch, dtype=torch.float32, requires_grad=True)\n",
    "print(minibatch)\n",
    "\n",
    "print('output of the linear layer')\n",
    "m = torch.nn.Linear(in_features, out_features)\n",
    "m.weight = torch.nn.Parameter(torch.tensor(layer.weights, dtype=torch.float32, requires_grad=True).T)\n",
    "m.bias = torch.nn.Parameter(torch.tensor(layer.bias, dtype=torch.float32, requires_grad=True))\n",
    "linear_output = m(minibatch)\n",
    "print(linear_output)\n",
    "\n",
    "print('gradient w.r.t weights')\n",
    "linear_output.backward(torch.tensor(in_gradient))\n",
    "print(m.weight.grad.T)\n",
    "\n",
    "print('gradient w.r.t. inputs')\n",
    "print(minibatch.grad)\n"
   ]
  },
  {
   "cell_type": "markdown",
   "metadata": {
    "id": "xBlNeLCc2XOo"
   },
   "source": [
    "## Exercise 6.2.4 Implement gradient calculation for activation functions (1 point)\n",
    "Check the correctness of the gradients by calculating them on the same data using PyTorch.  "
   ]
  },
  {
   "cell_type": "code",
   "execution_count": 9,
   "metadata": {
    "colab": {
     "base_uri": "https://localhost:8080/"
    },
    "executionInfo": {
     "elapsed": 7,
     "status": "ok",
     "timestamp": 1639849487970,
     "user": {
      "displayName": "Harsh Agarwal",
      "photoUrl": "https://lh3.googleusercontent.com/a-/AOh14Gi3nQELkyrbEPq5AehnqZz4WF1ZIpUUSRYMwWl8=s64",
      "userId": "05114933545350211466"
     },
     "user_tz": -60
    },
    "id": "pF3Z8kl42XOo",
    "outputId": "308e5ba6-3993-48ef-b35d-d6c2e83c98fb"
   },
   "outputs": [
    {
     "name": "stdout",
     "output_type": "stream",
     "text": [
      "[[0.52497919 0.42555748 0.62245933 0.7109495  0.5        0.26894142]\n",
      " [0.549834   0.40131234 0.75026011 0.59868766 0.57444252 0.5       ]]\n",
      "[[0.24937604 0.24445831 0.23500371 0.20550031 0.25       0.19661193]\n",
      " [0.24751657 0.24026075 0.18736988 0.24026075 0.24445831 0.25      ]]\n"
     ]
    }
   ],
   "source": [
    "x = np.array([[0.1, -0.3, 0.5, 0.9, 0, -1.0],\n",
    "              [0.2, -0.4, 1.1, 0.4, 0.3, 0]])\n",
    "sigmoid = Sigmoid()\n",
    "print(sigmoid(x))\n",
    "\n",
    "in_gradient = np.ones((2, 6,))\n",
    "print(sigmoid.grad(in_gradient))"
   ]
  },
  {
   "cell_type": "code",
   "execution_count": 10,
   "metadata": {
    "colab": {
     "base_uri": "https://localhost:8080/"
    },
    "executionInfo": {
     "elapsed": 5,
     "status": "ok",
     "timestamp": 1639849487970,
     "user": {
      "displayName": "Harsh Agarwal",
      "photoUrl": "https://lh3.googleusercontent.com/a-/AOh14Gi3nQELkyrbEPq5AehnqZz4WF1ZIpUUSRYMwWl8=s64",
      "userId": "05114933545350211466"
     },
     "user_tz": -60
    },
    "id": "rQpK1nR52XOp",
    "outputId": "d18f73f5-886c-4027-fef4-24b9d7ef850b"
   },
   "outputs": [
    {
     "name": "stdout",
     "output_type": "stream",
     "text": [
      "tensor([[0.5250, 0.4256, 0.6225, 0.7109, 0.5000, 0.2689],\n",
      "        [0.5498, 0.4013, 0.7503, 0.5987, 0.5744, 0.5000]], dtype=torch.float64,\n",
      "       grad_fn=<SigmoidBackward0>)\n",
      "tensor([[0.2494, 0.2445, 0.2350, 0.2055, 0.2500, 0.1966],\n",
      "        [0.2475, 0.2403, 0.1874, 0.2403, 0.2445, 0.2500]], dtype=torch.float64)\n"
     ]
    }
   ],
   "source": [
    "x_torch = torch.tensor(x, requires_grad=True)\n",
    "m = torch.nn.Sigmoid()\n",
    "output = m(x_torch)\n",
    "print(output)\n",
    "output.backward(torch.tensor(in_gradient))\n",
    "print(x_torch.grad)"
   ]
  },
  {
   "cell_type": "code",
   "execution_count": 11,
   "metadata": {
    "colab": {
     "base_uri": "https://localhost:8080/"
    },
    "executionInfo": {
     "elapsed": 274,
     "status": "ok",
     "timestamp": 1639849488240,
     "user": {
      "displayName": "Harsh Agarwal",
      "photoUrl": "https://lh3.googleusercontent.com/a-/AOh14Gi3nQELkyrbEPq5AehnqZz4WF1ZIpUUSRYMwWl8=s64",
      "userId": "05114933545350211466"
     },
     "user_tz": -60
    },
    "id": "K0RheqoN2XOp",
    "outputId": "1e234853-36bf-491f-d7ac-33666a141dfa"
   },
   "outputs": [
    {
     "name": "stdout",
     "output_type": "stream",
     "text": [
      "[[ 0.09966799 -0.29131261  0.46211716  0.71629787  0.         -0.76159416]\n",
      " [ 0.19737532 -0.37994896  0.80049902  0.37994896  0.29131261  0.        ]]\n",
      "[[0.99006629 0.91513696 0.78644773 0.48691736 1.         0.41997434]\n",
      " [0.96104298 0.85563879 0.35920132 0.85563879 0.91513696 1.        ]]\n"
     ]
    }
   ],
   "source": [
    "tanh = Tanh()\n",
    "print(tanh(x))\n",
    "print(tanh.grad(in_gradient))"
   ]
  },
  {
   "cell_type": "code",
   "execution_count": 12,
   "metadata": {
    "colab": {
     "base_uri": "https://localhost:8080/"
    },
    "executionInfo": {
     "elapsed": 10,
     "status": "ok",
     "timestamp": 1639849488241,
     "user": {
      "displayName": "Harsh Agarwal",
      "photoUrl": "https://lh3.googleusercontent.com/a-/AOh14Gi3nQELkyrbEPq5AehnqZz4WF1ZIpUUSRYMwWl8=s64",
      "userId": "05114933545350211466"
     },
     "user_tz": -60
    },
    "id": "HLx5_LJk2XOp",
    "outputId": "7c478466-f569-42f9-dc68-dd8e4c7ce2f5"
   },
   "outputs": [
    {
     "name": "stdout",
     "output_type": "stream",
     "text": [
      "tensor([[ 0.0997, -0.2913,  0.4621,  0.7163,  0.0000, -0.7616],\n",
      "        [ 0.1974, -0.3799,  0.8005,  0.3799,  0.2913,  0.0000]],\n",
      "       dtype=torch.float64, grad_fn=<TanhBackward0>)\n",
      "tensor([[0.9901, 0.9151, 0.7864, 0.4869, 1.0000, 0.4200],\n",
      "        [0.9610, 0.8556, 0.3592, 0.8556, 0.9151, 1.0000]], dtype=torch.float64)\n"
     ]
    }
   ],
   "source": [
    "x_torch = torch.tensor(x, requires_grad=True)\n",
    "m = torch.nn.Tanh()\n",
    "output = m(x_torch)\n",
    "print(output)\n",
    "output.backward(torch.tensor(in_gradient))\n",
    "print(x_torch.grad)"
   ]
  },
  {
   "cell_type": "code",
   "execution_count": 13,
   "metadata": {
    "colab": {
     "base_uri": "https://localhost:8080/"
    },
    "executionInfo": {
     "elapsed": 9,
     "status": "ok",
     "timestamp": 1639849488241,
     "user": {
      "displayName": "Harsh Agarwal",
      "photoUrl": "https://lh3.googleusercontent.com/a-/AOh14Gi3nQELkyrbEPq5AehnqZz4WF1ZIpUUSRYMwWl8=s64",
      "userId": "05114933545350211466"
     },
     "user_tz": -60
    },
    "id": "cjXnRntm2XOp",
    "outputId": "fd08fa48-7203-4ade-b914-7310c2bcc53e"
   },
   "outputs": [
    {
     "name": "stdout",
     "output_type": "stream",
     "text": [
      "[[ 0.1 -0.   0.5  0.9  0.  -0. ]\n",
      " [ 0.2 -0.   1.1  0.4  0.3  0. ]]\n",
      "[[1. 0. 1. 1. 0. 0.]\n",
      " [1. 0. 1. 1. 1. 0.]]\n"
     ]
    }
   ],
   "source": [
    "relu = ReLU()\n",
    "print(relu(x))\n",
    "print(relu.grad(in_gradient))"
   ]
  },
  {
   "cell_type": "code",
   "execution_count": 14,
   "metadata": {
    "colab": {
     "base_uri": "https://localhost:8080/"
    },
    "executionInfo": {
     "elapsed": 7,
     "status": "ok",
     "timestamp": 1639849488241,
     "user": {
      "displayName": "Harsh Agarwal",
      "photoUrl": "https://lh3.googleusercontent.com/a-/AOh14Gi3nQELkyrbEPq5AehnqZz4WF1ZIpUUSRYMwWl8=s64",
      "userId": "05114933545350211466"
     },
     "user_tz": -60
    },
    "id": "jvzKeQAA2XOq",
    "outputId": "9ae1189b-15f9-48da-9c13-af4b2134292a"
   },
   "outputs": [
    {
     "name": "stdout",
     "output_type": "stream",
     "text": [
      "tensor([[0.1000, 0.0000, 0.5000, 0.9000, 0.0000, 0.0000],\n",
      "        [0.2000, 0.0000, 1.1000, 0.4000, 0.3000, 0.0000]], dtype=torch.float64,\n",
      "       grad_fn=<ReluBackward0>)\n",
      "tensor([[1., 0., 1., 1., 0., 0.],\n",
      "        [1., 0., 1., 1., 1., 0.]], dtype=torch.float64)\n"
     ]
    }
   ],
   "source": [
    "x_torch = torch.tensor(x, requires_grad=True)\n",
    "m = torch.nn.ReLU()\n",
    "output = m(x_torch)\n",
    "print(output)\n",
    "output.backward(torch.tensor(in_gradient))\n",
    "print(x_torch.grad)\n",
    "# TODO - Implement: your code goes here"
   ]
  },
  {
   "cell_type": "code",
   "execution_count": 15,
   "metadata": {
    "colab": {
     "base_uri": "https://localhost:8080/"
    },
    "executionInfo": {
     "elapsed": 6,
     "status": "ok",
     "timestamp": 1639849488242,
     "user": {
      "displayName": "Harsh Agarwal",
      "photoUrl": "https://lh3.googleusercontent.com/a-/AOh14Gi3nQELkyrbEPq5AehnqZz4WF1ZIpUUSRYMwWl8=s64",
      "userId": "05114933545350211466"
     },
     "user_tz": -60
    },
    "id": "oENfMMNc2XOq",
    "outputId": "f0d2c2db-4d35-4848-af54-62e94c1cac83"
   },
   "outputs": [
    {
     "name": "stdout",
     "output_type": "stream",
     "text": [
      "[[ 0.1   -0.003  0.5    0.9    0.    -0.01 ]\n",
      " [ 0.2   -0.004  1.1    0.4    0.3    0.   ]]\n",
      "[[1.   0.01 1.   1.   0.01 0.01]\n",
      " [1.   0.01 1.   1.   1.   0.01]]\n"
     ]
    }
   ],
   "source": [
    "leaky_relu = LeakyReLU()\n",
    "print(leaky_relu(x))\n",
    "print(leaky_relu.grad(in_gradient))"
   ]
  },
  {
   "cell_type": "code",
   "execution_count": 16,
   "metadata": {
    "colab": {
     "base_uri": "https://localhost:8080/"
    },
    "executionInfo": {
     "elapsed": 5,
     "status": "ok",
     "timestamp": 1639849488242,
     "user": {
      "displayName": "Harsh Agarwal",
      "photoUrl": "https://lh3.googleusercontent.com/a-/AOh14Gi3nQELkyrbEPq5AehnqZz4WF1ZIpUUSRYMwWl8=s64",
      "userId": "05114933545350211466"
     },
     "user_tz": -60
    },
    "id": "8gxQg_cM2XOq",
    "outputId": "7b6f2db5-4b02-4b1c-978a-bc113e21699a"
   },
   "outputs": [
    {
     "name": "stdout",
     "output_type": "stream",
     "text": [
      "tensor([[ 0.1000, -0.0030,  0.5000,  0.9000,  0.0000, -0.0100],\n",
      "        [ 0.2000, -0.0040,  1.1000,  0.4000,  0.3000,  0.0000]],\n",
      "       dtype=torch.float64, grad_fn=<LeakyReluBackward0>)\n",
      "tensor([[1.0000, 0.0100, 1.0000, 1.0000, 0.0100, 0.0100],\n",
      "        [1.0000, 0.0100, 1.0000, 1.0000, 1.0000, 0.0100]], dtype=torch.float64)\n"
     ]
    }
   ],
   "source": [
    "x_torch = torch.tensor(x, requires_grad=True)\n",
    "m = torch.nn.LeakyReLU()\n",
    "output = m(x_torch)\n",
    "print(output)\n",
    "output.backward(torch.tensor(in_gradient))\n",
    "print(x_torch.grad)"
   ]
  },
  {
   "cell_type": "markdown",
   "metadata": {
    "id": "SH8d5a702XOq"
   },
   "source": [
    "## Exercise 6.2.5 Implement a model class (1.5 points)\n",
    "Implement a model class which stores a list of components of the model (in this exercise those are only the *layers* and *activation functions*). \n",
    "It must perform the forward pass and also be able to calculate and store the gradients for all the layers, and perform a parameter update step (here we deviate from PyTorch since we don't use *autograd*).  \n",
    "For simplicity, you don't have to compare the value of each parameter of the model with PyTorch implementation, but just check the value of the resultant loss (before and after the parameter update step). We provide all the code, including the code for PyTorch below. You don't have to change the cells below, but just check whether your implementation of the model achieves the same decrease in loss as the equivalent implementation in PyTorch."
   ]
  },
  {
   "cell_type": "code",
   "execution_count": 17,
   "metadata": {
    "colab": {
     "base_uri": "https://localhost:8080/"
    },
    "executionInfo": {
     "elapsed": 880,
     "status": "ok",
     "timestamp": 1639849489117,
     "user": {
      "displayName": "Harsh Agarwal",
      "photoUrl": "https://lh3.googleusercontent.com/a-/AOh14Gi3nQELkyrbEPq5AehnqZz4WF1ZIpUUSRYMwWl8=s64",
      "userId": "05114933545350211466"
     },
     "user_tz": -60
    },
    "id": "tLgsn_lf2XOq",
    "outputId": "7b941199-017f-4267-80f4-9a5fa593db40"
   },
   "outputs": [
    {
     "name": "stdout",
     "output_type": "stream",
     "text": [
      "1.9648272572841394\n"
     ]
    }
   ],
   "source": [
    "from model import Model\n",
    "np.random.seed(123)\n",
    "\n",
    "layer1 = Linear(1000, 100)\n",
    "activation1 = ReLU()\n",
    "layer2 = Linear(100, 10)\n",
    "activation2 = ReLU()\n",
    "loss = CrossEntropy()\n",
    "\n",
    "x = np.random.randn(2, 1000)\n",
    "y_true = np.zeros((2, 10,))\n",
    "y_true[0, 4] = 1\n",
    "y_true[1, 1] = 1\n",
    "m = Model([layer1, activation1, layer2, activation2])\n",
    "out = m.forward(x)\n",
    "print(loss(out, y_true))"
   ]
  },
  {
   "cell_type": "code",
   "execution_count": 18,
   "metadata": {
    "colab": {
     "base_uri": "https://localhost:8080/"
    },
    "executionInfo": {
     "elapsed": 338,
     "status": "ok",
     "timestamp": 1639849489454,
     "user": {
      "displayName": "Harsh Agarwal",
      "photoUrl": "https://lh3.googleusercontent.com/a-/AOh14Gi3nQELkyrbEPq5AehnqZz4WF1ZIpUUSRYMwWl8=s64",
      "userId": "05114933545350211466"
     },
     "user_tz": -60
    },
    "id": "Tyzfe90n2XOq",
    "outputId": "0e8f9db9-f9ee-4691-e1bd-421713b36266"
   },
   "outputs": [
    {
     "name": "stdout",
     "output_type": "stream",
     "text": [
      "1.964827299118042\n"
     ]
    }
   ],
   "source": [
    "import torch.nn as nn\n",
    "import torch.nn.functional as F\n",
    "import torch.optim as optim\n",
    "\n",
    "class Net(nn.Module):\n",
    "    def __init__(self) -> None:\n",
    "        super().__init__()\n",
    "        self.layer1 = nn.Linear(1000, 100, bias=True)\n",
    "        self.layer2 = nn.Linear(100, 10, bias=True)\n",
    "    \n",
    "    def forward(self, x):\n",
    "        x = F.relu(self.layer1(x))\n",
    "        x = F.relu(self.layer2(x))\n",
    "        return x\n",
    "criterion = nn.CrossEntropyLoss()\n",
    "net = Net()\n",
    "\n",
    "with torch.no_grad():\n",
    "    net.layer1.weight.copy_(torch.tensor(layer1.weights).t())\n",
    "    net.layer1.bias.copy_(torch.tensor(layer1.bias[0,:]))\n",
    "    net.layer2.weight.copy_(torch.tensor(layer2.weights).t())\n",
    "    net.layer2.bias.copy_(torch.tensor(layer2.bias[0,:]))\n",
    "\n",
    "optimizer = optim.SGD(net.parameters(), lr=0.001, momentum=0)\n",
    "\n",
    "x_torch = torch.tensor(x, dtype=torch.float32)\n",
    "out = net(x_torch)\n",
    "y_true_torch = torch.tensor(y_true, dtype=torch.float32)\n",
    "loss_torch = criterion(out, y_true_torch)\n",
    "print(loss_torch.item())"
   ]
  },
  {
   "cell_type": "code",
   "execution_count": 19,
   "metadata": {
    "colab": {
     "base_uri": "https://localhost:8080/"
    },
    "executionInfo": {
     "elapsed": 8,
     "status": "ok",
     "timestamp": 1639849489454,
     "user": {
      "displayName": "Harsh Agarwal",
      "photoUrl": "https://lh3.googleusercontent.com/a-/AOh14Gi3nQELkyrbEPq5AehnqZz4WF1ZIpUUSRYMwWl8=s64",
      "userId": "05114933545350211466"
     },
     "user_tz": -60
    },
    "id": "YvzakksT2XOr",
    "outputId": "fa5d6cbd-02cb-4095-976c-0514d1a815d3"
   },
   "outputs": [
    {
     "name": "stdout",
     "output_type": "stream",
     "text": [
      "1.8635426227579552\n"
     ]
    }
   ],
   "source": [
    "grads = m.backward(loss.grad())\n",
    "m.update_parameters(grads, 0.001)\n",
    "out = m.forward(x)\n",
    "model_loss_ours = loss(out, y_true)\n",
    "print(model_loss_ours)"
   ]
  },
  {
   "cell_type": "code",
   "execution_count": 20,
   "metadata": {
    "colab": {
     "base_uri": "https://localhost:8080/"
    },
    "executionInfo": {
     "elapsed": 6,
     "status": "ok",
     "timestamp": 1639849489455,
     "user": {
      "displayName": "Harsh Agarwal",
      "photoUrl": "https://lh3.googleusercontent.com/a-/AOh14Gi3nQELkyrbEPq5AehnqZz4WF1ZIpUUSRYMwWl8=s64",
      "userId": "05114933545350211466"
     },
     "user_tz": -60
    },
    "id": "G3adYwKW2XOr",
    "outputId": "09981281-27f1-40cb-be95-e493636df56f"
   },
   "outputs": [
    {
     "name": "stdout",
     "output_type": "stream",
     "text": [
      "1.863140344619751\n"
     ]
    }
   ],
   "source": [
    "loss_torch.backward()\n",
    "optimizer.step()\n",
    "\n",
    "out = net(x_torch)\n",
    "model_loss_pt = criterion(out, y_true_torch).item()\n",
    "print(model_loss_pt)"
   ]
  },
  {
   "cell_type": "code",
   "execution_count": 21,
   "metadata": {
    "colab": {
     "base_uri": "https://localhost:8080/"
    },
    "executionInfo": {
     "elapsed": 5,
     "status": "ok",
     "timestamp": 1639849489455,
     "user": {
      "displayName": "Harsh Agarwal",
      "photoUrl": "https://lh3.googleusercontent.com/a-/AOh14Gi3nQELkyrbEPq5AehnqZz4WF1ZIpUUSRYMwWl8=s64",
      "userId": "05114933545350211466"
     },
     "user_tz": -60
    },
    "id": "qy_6s36S2XOr",
    "outputId": "13792fda-3cd9-4306-ddad-218849947815"
   },
   "outputs": [
    {
     "data": {
      "text/plain": [
       "True"
      ]
     },
     "execution_count": 21,
     "metadata": {},
     "output_type": "execute_result"
    }
   ],
   "source": [
    "# sanity check within some acceptable tolerance level\n",
    "\n",
    "np.allclose(model_loss_ours, model_loss_pt, atol=1e-3)"
   ]
  }
 ],
 "metadata": {
  "colab": {
   "collapsed_sections": [],
   "name": "assignment6.ipynb",
   "provenance": []
  },
  "kernelspec": {
   "display_name": "Python 3",
   "language": "python",
   "name": "python3"
  },
  "language_info": {
   "codemirror_mode": {
    "name": "ipython",
    "version": 3
   },
   "file_extension": ".py",
   "mimetype": "text/x-python",
   "name": "python",
   "nbconvert_exporter": "python",
   "pygments_lexer": "ipython3",
   "version": "3.8.8"
  }
 },
 "nbformat": 4,
 "nbformat_minor": 1
}
